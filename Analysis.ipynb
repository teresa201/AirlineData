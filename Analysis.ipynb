{
 "cells": [
  {
   "cell_type": "code",
   "execution_count": 168,
   "metadata": {},
   "outputs": [
    {
     "name": "stdout",
     "output_type": "stream",
     "text": [
      "Populating the interactive namespace from numpy and matplotlib\n"
     ]
    }
   ],
   "source": [
    "%pylab inline"
   ]
  },
  {
   "cell_type": "code",
   "execution_count": 169,
   "metadata": {
    "collapsed": true
   },
   "outputs": [],
   "source": [
    "import sqlite3\n",
    "import pandas as pd\n",
    "import matplotlib.pyplot as plt\n",
    "conn = sqlite3.connect(r'/Users/teresa201/Desktop/sqlite/testy.db')"
   ]
  },
  {
   "cell_type": "markdown",
   "metadata": {},
   "source": [
    "## Question: When is the best and worst time of day to fly?"
   ]
  },
  {
   "cell_type": "markdown",
   "metadata": {},
   "source": [
    "Time of Day with the most flights that leave early or on time: 6:00AM to 6:59AM\n",
    "\n",
    "Time Day with the most flights that get delayed: 7:00PM to 7:59PM\n",
    "\n",
    "Time Day with the most flights that get cancelled: 6:00PM to 6:59PM\n",
    "\n",
    "Best Time to Fly: 6AM-6:59AM (Highest % of Filghts Early or On Time)\n",
    "\n",
    "Worst Time to Fly: 6PM - 7:59PM (Highest % of Flights Delayed and Cancelled)\n"
   ]
  },
  {
   "cell_type": "code",
   "execution_count": 170,
   "metadata": {
    "scrolled": true
   },
   "outputs": [
    {
     "name": "stdout",
     "output_type": "stream",
     "text": [
      "              dtimeblk  TotalFlights  EarlyOnTime  PercentEarlyOnTime\n",
      "0     6:00AM to 6:59AM        118809        98199                82.7\n",
      "1    12:00AM to 5:59AM         44723        36847                82.4\n",
      "2     7:00AM to 7:59AM        113073        90053                79.6\n",
      "3     8:00AM to 8:59AM        111210        83285                74.9\n",
      "4     9:00AM to 9:59AM         96045        68000                70.8\n",
      "5   10:00AM to 10:59AM         99093        66410                67.0\n",
      "6   11:00PM to 11:59PM         11423         7582                66.4\n",
      "7   11:00AM to 11:59AM        105894        69895                66.0\n",
      "8   12:00PM to 12:59PM        104817        67326                64.2\n",
      "9   10:00PM to 10:59PM         41893        26742                63.8\n",
      "10    1:00PM to 1:59PM         94873        58260                61.4\n",
      "11    2:00PM to 2:59PM         96718        58867                60.9\n",
      "12    3:00PM to 3:59PM        101287        61242                60.5\n",
      "13    9:00PM to 9:59PM         48805        29411                60.3\n",
      "14    8:00PM to 8:59PM         77708        46482                59.8\n",
      "15    4:00PM to 4:59PM         97815        58308                59.6\n",
      "16    5:00PM to 5:59PM        109486        64623                59.0\n",
      "17    6:00PM to 6:59PM         95334        55721                58.4\n",
      "18    7:00PM to 7:59PM         90425        52719                58.3\n"
     ]
    }
   ],
   "source": [
    "can = pd.read_sql(\"Select a.dtimeblk, a.TotalFlights, b.EarlyOnTime, ROUND(b.EarlyOnTime * 100.0 / a.TotalFlights, 1)PercentEarlyOnTime from(Select distinct dtimeblk, count(flightnum)TotalFlights from airplanes where cancelled = 0.00 group by dtimeblk order by dtimeblk) as a inner join (Select distinct dtimeblk, count(flightnum)EarlyOnTime from airplanes where cancelled = 0.00 and depdelay <= 0 group by dtimeblk order by dtimeblk) as b on a.dtimeblk = b.dtimeblk order by PercentEarlyOnTime desc;\", conn)\n",
    "print(can)"
   ]
  },
  {
   "cell_type": "code",
   "execution_count": 171,
   "metadata": {},
   "outputs": [
    {
     "name": "stdout",
     "output_type": "stream",
     "text": [
      "              dtimeblk  TotalFlights  Cancelled  PercentCancelled\n",
      "0     6:00PM to 6:59PM         98318       2984               3.0\n",
      "1     6:00AM to 6:59AM        122278       3469               2.8\n",
      "2     7:00PM to 7:59PM         93017       2592               2.8\n",
      "3   10:00PM to 10:59PM         43047       1154               2.7\n",
      "4    12:00AM to 5:59AM         45969       1246               2.7\n",
      "5     5:00PM to 5:59PM        112580       3094               2.7\n",
      "6     8:00PM to 8:59PM         79861       2153               2.7\n",
      "7     9:00PM to 9:59PM         50169       1364               2.7\n",
      "8     4:00PM to 4:59PM        100394       2579               2.6\n",
      "9   12:00PM to 12:59PM        107493       2676               2.5\n",
      "10    2:00PM to 2:59PM         99247       2529               2.5\n",
      "11    3:00PM to 3:59PM        103875       2588               2.5\n",
      "12    1:00PM to 1:59PM         97232       2359               2.4\n",
      "13    7:00AM to 7:59AM        115882       2809               2.4\n",
      "14    8:00AM to 8:59AM        113928       2718               2.4\n",
      "15  10:00AM to 10:59AM        101447       2354               2.3\n",
      "16  11:00AM to 11:59AM        108301       2407               2.2\n",
      "17    9:00AM to 9:59AM         98229       2184               2.2\n",
      "18  11:00PM to 11:59PM         11603        180               1.6\n"
     ]
    }
   ],
   "source": [
    "canc = pd.read_sql(\"Select a.dtimeblk, a.TotalFlights, b.Cancelled, ROUND(b.Cancelled * 100.0 / a.TotalFlights, 1)PercentCancelled from(Select distinct dtimeblk, count(flightnum)TotalFlights from airplanes group by dtimeblk order by dtimeblk) as a inner join (Select distinct dtimeblk, count(flightnum)Cancelled from airplanes where cancelled = 1.00 group by dtimeblk order by dtimeblk) as b on a.dtimeblk = b.dtimeblk order by PercentCancelled desc;\", conn)\n",
    "print(canc)"
   ]
  },
  {
   "cell_type": "markdown",
   "metadata": {},
   "source": [
    "## Question: What is the worst day to fly?"
   ]
  },
  {
   "cell_type": "markdown",
   "metadata": {},
   "source": [
    "Friday leads the other days in delays and Wednesday leads in cancellatons"
   ]
  },
  {
   "cell_type": "code",
   "execution_count": 173,
   "metadata": {},
   "outputs": [
    {
     "data": {
      "text/plain": [
       "<matplotlib.axes._subplots.AxesSubplot at 0x1130bf630>"
      ]
     },
     "execution_count": 173,
     "metadata": {},
     "output_type": "execute_result"
    },
    {
     "data": {
      "image/png": "[encoded data removed]",
      "text/plain": [
       "<matplotlib.figure.Figure at 0x1130af518>"
      ]
     },
     "metadata": {},
     "output_type": "display_data"
    },
    {
     "data": {
      "image/png": "[encoded data removed]",
      "text/plain": [
       "<matplotlib.figure.Figure at 0x111c07d68>"
      ]
     },
     "metadata": {},
     "output_type": "display_data"
    }
   ],
   "source": [
    "mn = pd.read_sql(\"Select dayname, Count(dayname) delayed from airplanes where cancelled = 0 and depdelay > 0 group by dayname order by dayofweek\", conn)\n",
    "#print(mn)\n",
    "\n",
    "plt.figure(figsize=(10,12))\n",
    "ax2 = plt.subplot(121, aspect='equal')\n",
    "mn.plot(kind='pie',title =\"2018 Flight Delay\", y = \"delayed\", ax=ax2, autopct='%1.1f%%', \n",
    " startangle=90, shadow=False, labels=mn['dayname'], legend = False, fontsize=14)\n",
    "mn = pd.read_sql(\"Select dayname, Count(dayname) cancelled from airplanes where cancelled = 1 group by dayname order by dayofweek\", conn)\n",
    "#print(mn)\n",
    "plt.figure(figsize=(10,12))\n",
    "ax2 = plt.subplot(122, aspect='equal')\n",
    "\n",
    "mn.plot(kind='pie',title =\"2018 Flight Cancellations\", y = \"cancelled\", ax=ax2, autopct='%1.1f%%', \n",
    " startangle=90, shadow=False, labels=mn['dayname'], legend = False, fontsize=14)"
   ]
  },
  {
   "cell_type": "code",
   "execution_count": null,
   "metadata": {
    "collapsed": true
   },
   "outputs": [],
   "source": [
    "## Avg taxi in time for rach airport\n",
    "##Best time to taxi into DFW?\n",
    "\n"
   ]
  },
  {
   "cell_type": "code",
   "execution_count": 193,
   "metadata": {},
   "outputs": [
    {
     "name": "stdout",
     "output_type": "stream",
     "text": [
      "                       airline  avg(taxiin)\n",
      "0         Alaska Airlines Inc.     9.063758\n",
      "1       American Airlines Inc.    11.254686\n",
      "2         Delta Air Lines Inc.     8.211055\n",
      "3        Endeavor Air Inc.: 9E     9.547619\n",
      "4                    Envoy Air    11.487801\n",
      "5     ExpressJet Airlines Inc.     9.570425\n",
      "6   Frontier Airlines Inc.: F9     9.918182\n",
      "7          JetBlue Airways: B6     9.513158\n",
      "8           Mesa Airlines Inc.    11.175439\n",
      "9             Republic Airline     9.490971\n",
      "10       SkyWest Airlines Inc.    11.295347\n",
      "11            Spirit Air Lines     9.015323\n",
      "12       United Air Lines Inc.     8.341511\n",
      "              ATimeBlk  avg(taxiin)\n",
      "0   10:00AM to 10:59AM    11.914807\n",
      "1   10:00PM to 10:59PM     8.668274\n",
      "2   11:00AM to 11:59AM    12.272128\n",
      "3   11:00PM to 11:59PM     7.714516\n",
      "4    12:00AM to 5:59AM     7.476038\n",
      "5   12:00PM to 12:59PM     9.231878\n",
      "6     1:00PM to 1:59PM     9.962251\n",
      "7     2:00PM to 2:59PM     9.077861\n",
      "8     3:00PM to 3:59PM    10.178377\n",
      "9     4:00PM to 4:59PM     9.186833\n",
      "10    5:00PM to 5:59PM    11.035448\n",
      "11    6:00AM to 6:59AM     9.783343\n",
      "12    6:00PM to 6:59PM    11.082048\n",
      "13    7:00AM to 7:59AM    10.681805\n",
      "14    7:00PM to 7:59PM    13.084001\n",
      "15    8:00AM to 8:59AM    10.146640\n",
      "16    8:00PM to 8:59PM    10.070055\n",
      "17    9:00AM to 9:59AM    12.473089\n",
      "18    9:00PM to 9:59PM    11.613182\n"
     ]
    }
   ],
   "source": [
    "mn = pd.read_sql(\"Select airline, avg(taxiin) from airplanes where taxiin > 0  and dest = 'DFW' group by airline;\", conn)\n",
    "print(mn)\n",
    "mn = pd.read_sql(\"Select atimeblk, avg(taxiin) from airplanes where dest = 'DFW' and  taxiin > 0 group by atimeblk;\", conn)\n",
    "print(mn)"
   ]
  },
  {
   "cell_type": "code",
   "execution_count": null,
   "metadata": {
    "collapsed": true
   },
   "outputs": [],
   "source": [
    "##Looking at different speeds per airline/ time of day for same dest and origin city\n",
    "## SOuthwest seems to have shorter avr airtime..not always..maybe for every set of origin dest \n",
    "##Find the ailine with shortest avg airtime if therre are mult airlines"
   ]
  },
  {
   "cell_type": "markdown",
   "metadata": {},
   "source": [
    "## Routes with the most flights "
   ]
  },
  {
   "cell_type": "code",
   "execution_count": null,
   "metadata": {
    "collapsed": true
   },
   "outputs": [],
   "source": []
  },
  {
   "cell_type": "code",
   "execution_count": 235,
   "metadata": {},
   "outputs": [
    {
     "name": "stdout",
     "output_type": "stream",
     "text": [
      "      NumFlights origin dest  count(flightnum)  count(airline)\n",
      "0            230    LAX  LAS               230             230\n",
      "1            221    LAS  LAX               221             221\n",
      "2            183    SFO  LAX               183             183\n",
      "3            179    LAX  SFO               179             179\n",
      "4            167    DEN  PHX               167             167\n",
      "5            161    PHX  DEN               161             161\n",
      "6            151    HOU  DAL               151             151\n",
      "7            144    LAX  OAK               144             144\n",
      "8            144    SJC  SAN               144             144\n",
      "9            142    DAL  HOU               142             142\n",
      "10           141    LAX  SJC               141             141\n",
      "11           139    OAK  LAX               139             139\n",
      "12           137    SJC  LAX               137             137\n",
      "13           136    BWI  MCO               136             136\n",
      "14           136    DEN  LAX               136             136\n",
      "15           136    LAS  PHX               136             136\n",
      "16           136    MCO  ATL               136             136\n",
      "17           136    MCO  BWI               136             136\n",
      "18           136    SAN  LAS               136             136\n",
      "19           134    SAN  SJC               134             134\n",
      "20           133    PHX  LAS               133             133\n",
      "21           131    OAK  BUR               131             131\n",
      "22           130    LAS  SAN               130             130\n",
      "23           130    PHX  LAX               130             130\n",
      "24           129    BUR  OAK               129             129\n",
      "25           128    LAS  DEN               128             128\n",
      "26           128    LAX  DEN               128             128\n",
      "27           128    LAX  PHX               128             128\n",
      "28           127    SLC  DEN               127             127\n",
      "29           126    SMF  SAN               126             126\n",
      "...          ...    ...  ...               ...             ...\n",
      "5369           1    TTN  RSW                 1               1\n",
      "5370           1    TTN  SFB                 1               1\n",
      "5371           1    TTN  TPA                 1               1\n",
      "5372           1    TUL  LAX                 1               1\n",
      "5373           1    TUL  MIA                 1               1\n",
      "5374           1    TUL  OKC                 1               1\n",
      "5375           1    TUS  PDX                 1               1\n",
      "5376           1    TUS  SJC                 1               1\n",
      "5377           1    TVC  CIU                 1               1\n",
      "5378           1    TWF  DEN                 1               1\n",
      "5379           1    TWF  ORD                 1               1\n",
      "5380           1    TWF  SFO                 1               1\n",
      "5381           1    TYS  DEN                 1               1\n",
      "5382           1    TYS  LAS                 1               1\n",
      "5383           1    TYS  MCO                 1               1\n",
      "5384           1    TYS  PIE                 1               1\n",
      "5385           1    UIN  CGI                 1               1\n",
      "5386           1    USA  PIE                 1               1\n",
      "5387           1    USA  SFB                 1               1\n",
      "5388           1    VPS  BLV                 1               1\n",
      "5389           1    VPS  CVG                 1               1\n",
      "5390           1    WRG  KTN                 1               1\n",
      "5391           1    WRG  PSG                 1               1\n",
      "5392           1    XNA  DCA                 1               1\n",
      "5393           1    XNA  LAS                 1               1\n",
      "5394           1    XNA  SFB                 1               1\n",
      "5395           1    XNA  SFO                 1               1\n",
      "5396           1    YAK  CDV                 1               1\n",
      "5397           1    YNG  PIE                 1               1\n",
      "5398           1    YNG  SFB                 1               1\n",
      "\n",
      "[5399 rows x 5 columns]\n"
     ]
    }
   ],
   "source": [
    "mn = pd.read_sql(\"Select Count(*)NumFlights, origin, dest, count(flightnum) from (Select distinct origin, dest, flightnum from airplanes) group by origin, dest order by count(flightnum) desc;\", conn)\n",
    "print(mn)"
   ]
  },
  {
   "cell_type": "markdown",
   "metadata": {},
   "source": [
    "## Airline with Fastest Average Airtime for each route"
   ]
  },
  {
   "cell_type": "code",
   "execution_count": 291,
   "metadata": {},
   "outputs": [
    {
     "name": "stdout",
     "output_type": "stream",
     "text": [
      "      min(AvgAirTime) origin dest                airline\n",
      "0          327.750000    ANC  ORD   Alaska Airlines Inc.\n",
      "1          300.000000    DCA  LAX   Alaska Airlines Inc.\n",
      "2          204.200000    DFW  PDX   Alaska Airlines Inc.\n",
      "3          325.225806    EWR  PDX   Alaska Airlines Inc.\n",
      "4          320.580645    EWR  SAN   Alaska Airlines Inc.\n",
      "5          324.022222    EWR  SEA   Alaska Airlines Inc.\n",
      "6          338.107143    EWR  SJC   Alaska Airlines Inc.\n",
      "7          279.266667    HNL  OAK   Alaska Airlines Inc.\n",
      "8          278.125000    HNL  SAN   Alaska Airlines Inc.\n",
      "9          289.000000    HNL  SEA   Alaska Airlines Inc.\n",
      "10         309.787879    IAD  SEA   Alaska Airlines Inc.\n",
      "11         255.083333    IAH  SEA   Alaska Airlines Inc.\n",
      "12         123.400000    LAS  SEA   Alaska Airlines Inc.\n",
      "13         113.600000    LAX  SEA   Alaska Airlines Inc.\n",
      "14         290.750000    LIH  SEA   Alaska Airlines Inc.\n",
      "15         298.840000    MCO  SAN   Alaska Airlines Inc.\n",
      "16         289.000000    MSY  SEA   Alaska Airlines Inc.\n",
      "17         316.833333    OAK  HNL   Alaska Airlines Inc.\n",
      "18         308.176471    OAK  OGG   Alaska Airlines Inc.\n",
      "19         271.153846    OGG  OAK   Alaska Airlines Inc.\n",
      "20         295.636364    OGG  PDX   Alaska Airlines Inc.\n",
      "21         273.625000    OGG  SJC   Alaska Airlines Inc.\n",
      "22         371.800000    ORD  ANC   Alaska Airlines Inc.\n",
      "23         106.400000    PDX  BUR   Alaska Airlines Inc.\n",
      "24         273.428571    PDX  EWR   Alaska Airlines Inc.\n",
      "25          82.200000    PDX  LAS   Alaska Airlines Inc.\n",
      "26          80.750000    PDX  OAK   Alaska Airlines Inc.\n",
      "27         112.666667    PDX  ONT   Alaska Airlines Inc.\n",
      "28         112.687500    PDX  SAN   Alaska Airlines Inc.\n",
      "29          25.500000    PDX  SEA   Alaska Airlines Inc.\n",
      "...               ...    ...  ...                    ...\n",
      "2445        61.000000    SFO  SNA  United Air Lines Inc.\n",
      "2446       284.250000    SJC  EWR  United Air Lines Inc.\n",
      "2447        73.000000    SMF  DEN  United Air Lines Inc.\n",
      "2448        57.000000    SNA  SFO  United Air Lines Inc.\n",
      "2449       153.625000    SRQ  ORD  United Air Lines Inc.\n",
      "2450       207.916667    AUS  SFO         Virgin America\n",
      "2451       275.307692    BNA  SFO         Virgin America\n",
      "2452       128.000000    DAL  DCA         Virgin America\n",
      "2453       151.250000    DAL  LAX         Virgin America\n",
      "2454       236.600000    DAL  SEA         Virgin America\n",
      "2455       212.647059    DAL  SFO         Virgin America\n",
      "2456       332.333333    EWR  LAX         Virgin America\n",
      "2457       295.000000    IAD  LAX         Virgin America\n",
      "2458       272.400000    IND  SFO         Virgin America\n",
      "2459         0.000000    LAX  OGG         Virgin America\n",
      "2460       331.714286    MCO  SFO         Virgin America\n",
      "2461       264.714286    MSY  SFO         Virgin America\n",
      "2462        72.000000    PDX  SFO         Virgin America\n",
      "2463       304.875000    PHL  LAX         Virgin America\n",
      "2464       183.100000    SEA  DAL         Virgin America\n",
      "2465         0.000000    SEA  LAX         Virgin America\n",
      "2466       271.000000    SFO  BOS         Virgin America\n",
      "2467        65.500000    SFO  DEN         Virgin America\n",
      "2468       288.000000    SFO  HNL         Virgin America\n",
      "2469       217.142857    SFO  IND         Virgin America\n",
      "2470       256.000000    SFO  JFK         Virgin America\n",
      "2471       301.625000    SFO  KOA         Virgin America\n",
      "2472        47.000000    SFO  LAX         Virgin America\n",
      "2473       297.666667    SFO  OGG         Virgin America\n",
      "2474       250.666667    SFO  RDU         Virgin America\n",
      "\n",
      "[2475 rows x 4 columns]\n"
     ]
    }
   ],
   "source": [
    "mn = pd.read_sql(\"Select min(AvgAirTime), origin, dest,airline from (Select origin,dest,airline,avg(airtime)AvgAirTime from (Select  origin, dest, count(distinct airline), airline, airtime from (Select distinct origin, dest, flightnum, airline,airtime from airplanes where airtime > 0) group by origin, dest,airtime having count(distinct airline) > 1  order by count( distinct airline) desc) group by origin,dest,airline)group by origin,dest order by airline;\", conn)\n",
    "print(mn)"
   ]
  },
  {
   "cell_type": "markdown",
   "metadata": {},
   "source": [
    "## How many airlines fly each route"
   ]
  },
  {
   "cell_type": "code",
   "execution_count": 274,
   "metadata": {},
   "outputs": [
    {
     "name": "stdout",
     "output_type": "stream",
     "text": [
      "     origin dest  count(distinct airline)\n",
      "0       MSP  ORD                       10\n",
      "1       ORD  MSP                       10\n",
      "2       ATL  ORD                        9\n",
      "3       ORD  ATL                        9\n",
      "4       DTW  IAH                        8\n",
      "5       DTW  ORD                        8\n",
      "6       IAH  DTW                        8\n",
      "7       ORD  DTW                        8\n",
      "8       ATL  IAH                        7\n",
      "9       DEN  LAX                        7\n",
      "10      DFW  DTW                        7\n",
      "11      DFW  IAH                        7\n",
      "12      DTW  CLT                        7\n",
      "13      DTW  DFW                        7\n",
      "14      IAH  ATL                        7\n",
      "15      IAH  MSP                        7\n",
      "16      LAS  LAX                        7\n",
      "17      LAX  DEN                        7\n",
      "18      LAX  LAS                        7\n",
      "19      MSP  BOS                        7\n",
      "20      MSP  IAH                        7\n",
      "21      MSP  PHL                        7\n",
      "22      PHL  DTW                        7\n",
      "23      PHL  MSP                        7\n",
      "24      ATL  DEN                        6\n",
      "25      BDL  ORD                        6\n",
      "26      BNA  LGA                        6\n",
      "27      BWI  ORD                        6\n",
      "28      CLE  MCO                        6\n",
      "29      CLT  DTW                        6\n",
      "...     ...  ...                      ...\n",
      "2463    TPA  IAH                        2\n",
      "2464    TPA  IND                        2\n",
      "2465    TPA  ISP                        2\n",
      "2466    TPA  LAS                        2\n",
      "2467    TPA  LGA                        2\n",
      "2468    TPA  MCI                        2\n",
      "2469    TPA  MKE                        2\n",
      "2470    TPA  MSY                        2\n",
      "2471    TPA  PHX                        2\n",
      "2472    TPA  PIT                        2\n",
      "2473    TPA  PVD                        2\n",
      "2474    TPA  SJU                        2\n",
      "2475    TPA  STL                        2\n",
      "2476    TUL  CLT                        2\n",
      "2477    TUL  DTW                        2\n",
      "2478    TUL  LAS                        2\n",
      "2479    TUS  LAX                        2\n",
      "2480    TUS  ORD                        2\n",
      "2481    TUS  PHX                        2\n",
      "2482    TUS  SEA                        2\n",
      "2483    TYS  CLT                        2\n",
      "2484    TYS  DTW                        2\n",
      "2485    TYS  IAH                        2\n",
      "2486    TYS  ORD                        2\n",
      "2487    VPS  ATL                        2\n",
      "2488    VPS  IAH                        2\n",
      "2489    XNA  CLT                        2\n",
      "2490    XNA  EWR                        2\n",
      "2491    XNA  LGA                        2\n",
      "2492    XNA  MSP                        2\n",
      "\n",
      "[2493 rows x 3 columns]\n"
     ]
    }
   ],
   "source": [
    "mn = pd.read_sql(\"Select  origin, dest, count(distinct airline) from (Select distinct origin, dest, flightnum, airline from airplanes) group by origin, dest having count(distinct airline) > 1  order by count( distinct airline) desc;\", conn)\n",
    "print(mn)"
   ]
  },
  {
   "cell_type": "code",
   "execution_count": 256,
   "metadata": {},
   "outputs": [
    {
     "name": "stdout",
     "output_type": "stream",
     "text": [
      "                     airline  AirTime          ATimeBlk\n",
      "0       Delta Air Lines Inc.     55.0  2:00PM to 2:59PM\n",
      "1       Delta Air Lines Inc.     54.0  7:00PM to 7:59PM\n",
      "2     American Airlines Inc.     51.0  7:00AM to 7:59AM\n",
      "3     American Airlines Inc.     51.0  7:00AM to 7:59AM\n",
      "4     American Airlines Inc.     52.0  7:00AM to 7:59AM\n",
      "5     American Airlines Inc.     60.0  7:00AM to 7:59AM\n",
      "6     American Airlines Inc.     51.0  7:00AM to 7:59AM\n",
      "7     American Airlines Inc.     52.0  7:00AM to 7:59AM\n",
      "8     American Airlines Inc.     63.0  7:00AM to 7:59AM\n",
      "9     American Airlines Inc.     54.0  7:00AM to 7:59AM\n",
      "10    American Airlines Inc.     50.0  7:00AM to 7:59AM\n",
      "11    American Airlines Inc.     68.0  7:00AM to 7:59AM\n",
      "12    American Airlines Inc.     54.0  7:00AM to 7:59AM\n",
      "13    American Airlines Inc.     55.0  7:00AM to 7:59AM\n",
      "14    American Airlines Inc.     58.0  7:00AM to 7:59AM\n",
      "15    American Airlines Inc.     60.0  7:00AM to 7:59AM\n",
      "16    American Airlines Inc.     56.0  7:00AM to 7:59AM\n",
      "17    American Airlines Inc.     57.0  7:00AM to 7:59AM\n",
      "18    American Airlines Inc.     51.0  7:00AM to 7:59AM\n",
      "19    American Airlines Inc.     57.0  7:00AM to 7:59AM\n",
      "20    American Airlines Inc.     66.0  7:00AM to 7:59AM\n",
      "21    American Airlines Inc.     58.0  7:00AM to 7:59AM\n",
      "22    American Airlines Inc.     55.0  7:00AM to 7:59AM\n",
      "23    American Airlines Inc.     62.0  7:00AM to 7:59AM\n",
      "24    American Airlines Inc.     56.0  7:00AM to 7:59AM\n",
      "25    American Airlines Inc.     57.0  7:00AM to 7:59AM\n",
      "26    American Airlines Inc.     57.0  7:00AM to 7:59AM\n",
      "27    American Airlines Inc.     58.0  7:00AM to 7:59AM\n",
      "28    American Airlines Inc.     55.0  7:00AM to 7:59AM\n",
      "29      Delta Air Lines Inc.     57.0  7:00PM to 7:59PM\n",
      "...                      ...      ...               ...\n",
      "1741    Delta Air Lines Inc.     50.0  2:00PM to 2:59PM\n",
      "1742    Delta Air Lines Inc.     51.0  7:00PM to 7:59PM\n",
      "1743    Delta Air Lines Inc.     48.0  4:00PM to 4:59PM\n",
      "1744    Delta Air Lines Inc.     51.0  4:00PM to 4:59PM\n",
      "1745    Delta Air Lines Inc.     53.0  9:00PM to 9:59PM\n",
      "1746    Delta Air Lines Inc.     53.0  2:00PM to 2:59PM\n",
      "1747    Delta Air Lines Inc.     50.0  4:00PM to 4:59PM\n",
      "1748    Delta Air Lines Inc.     50.0  9:00PM to 9:59PM\n",
      "1749  American Airlines Inc.     52.0  5:00PM to 5:59PM\n",
      "1750  American Airlines Inc.     51.0  5:00PM to 5:59PM\n",
      "1751  American Airlines Inc.     69.0  5:00PM to 5:59PM\n",
      "1752  American Airlines Inc.     63.0  5:00PM to 5:59PM\n",
      "1753  American Airlines Inc.     57.0  5:00PM to 5:59PM\n",
      "1754  American Airlines Inc.     56.0  5:00PM to 5:59PM\n",
      "1755  American Airlines Inc.     54.0  5:00PM to 5:59PM\n",
      "1756  American Airlines Inc.     57.0  5:00PM to 5:59PM\n",
      "1757  American Airlines Inc.     50.0  5:00PM to 5:59PM\n",
      "1758  American Airlines Inc.     54.0  5:00PM to 5:59PM\n",
      "1759  American Airlines Inc.     54.0  5:00PM to 5:59PM\n",
      "1760  American Airlines Inc.     55.0  5:00PM to 5:59PM\n",
      "1761  American Airlines Inc.     63.0  5:00PM to 5:59PM\n",
      "1762  American Airlines Inc.     57.0  5:00PM to 5:59PM\n",
      "1763  American Airlines Inc.     51.0  5:00PM to 5:59PM\n",
      "1764  American Airlines Inc.     49.0  5:00PM to 5:59PM\n",
      "1765  American Airlines Inc.     54.0  5:00PM to 5:59PM\n",
      "1766  American Airlines Inc.     65.0  5:00PM to 5:59PM\n",
      "1767  American Airlines Inc.     58.0  5:00PM to 5:59PM\n",
      "1768  American Airlines Inc.     58.0  5:00PM to 5:59PM\n",
      "1769  American Airlines Inc.     55.0  5:00PM to 5:59PM\n",
      "1770  American Airlines Inc.     57.0  5:00PM to 5:59PM\n",
      "\n",
      "[1771 rows x 3 columns]\n"
     ]
    }
   ],
   "source": [
    "mn = pd.read_sql(\"Select airline,airtime,atimeblk from airplanes where origin = 'MSP' and dest = 'ORD' and cancelled = 0;\", conn)\n",
    "print(mn)"
   ]
  },
  {
   "cell_type": "code",
   "execution_count": 207,
   "metadata": {},
   "outputs": [
    {
     "name": "stdout",
     "output_type": "stream",
     "text": [
      "                     airline AirTime            ATimeBlk\n",
      "0     Southwest Airlines Co.      43    8:00PM to 8:59PM\n",
      "1     Southwest Airlines Co.      45    6:00PM to 6:59PM\n",
      "2     Southwest Airlines Co.      40    1:00PM to 1:59PM\n",
      "3     Southwest Airlines Co.      48    8:00AM to 8:59AM\n",
      "4     Southwest Airlines Co.      41    7:00PM to 7:59PM\n",
      "5     Southwest Airlines Co.      41    9:00PM to 9:59PM\n",
      "6     Southwest Airlines Co.      46  11:00AM to 11:59AM\n",
      "7     Southwest Airlines Co.      43  10:00AM to 10:59AM\n",
      "8       Delta Air Lines Inc.      46    8:00PM to 8:59PM\n",
      "9       Delta Air Lines Inc.      45    6:00PM to 6:59PM\n",
      "10      Delta Air Lines Inc.      48  10:00PM to 10:59PM\n",
      "11      Delta Air Lines Inc.      45  10:00PM to 10:59PM\n",
      "12      Delta Air Lines Inc.      40    4:00PM to 4:59PM\n",
      "13      Delta Air Lines Inc.      45    4:00PM to 4:59PM\n",
      "14      Delta Air Lines Inc.      38    8:00PM to 8:59PM\n",
      "15      Delta Air Lines Inc.      46  10:00PM to 10:59PM\n",
      "16    Southwest Airlines Co.      42    8:00PM to 8:59PM\n",
      "17    Southwest Airlines Co.      43  11:00AM to 11:59AM\n",
      "18    Southwest Airlines Co.      40    1:00PM to 1:59PM\n",
      "19    Southwest Airlines Co.      40  10:00AM to 10:59AM\n",
      "20    Southwest Airlines Co.      46    9:00PM to 9:59PM\n",
      "21    Southwest Airlines Co.      42    7:00AM to 7:59AM\n",
      "22    Southwest Airlines Co.      46    5:00PM to 5:59PM\n",
      "23    Southwest Airlines Co.      41  10:00PM to 10:59PM\n",
      "24    Southwest Airlines Co.      44    3:00PM to 3:59PM\n",
      "25      Delta Air Lines Inc.      41    6:00PM to 6:59PM\n",
      "26    Southwest Airlines Co.      39    5:00PM to 5:59PM\n",
      "27    Southwest Airlines Co.      38    8:00AM to 8:59AM\n",
      "28    Southwest Airlines Co.      41  10:00PM to 10:59PM\n",
      "29    Southwest Airlines Co.      39   12:00AM to 5:59AM\n",
      "...                      ...     ...                 ...\n",
      "2932  Southwest Airlines Co.      44    5:00PM to 5:59PM\n",
      "2933  Southwest Airlines Co.      46    1:00PM to 1:59PM\n",
      "2934  Southwest Airlines Co.      44  10:00AM to 10:59AM\n",
      "2935  Southwest Airlines Co.      47  10:00PM to 10:59PM\n",
      "2936  Southwest Airlines Co.      45    7:00AM to 7:59AM\n",
      "2937  Southwest Airlines Co.      46    8:00AM to 8:59AM\n",
      "2938  Southwest Airlines Co.      45  12:00PM to 12:59PM\n",
      "2939  Southwest Airlines Co.      48  11:00PM to 11:59PM\n",
      "2940  Southwest Airlines Co.      47    1:00PM to 1:59PM\n",
      "2941  Southwest Airlines Co.      46    6:00PM to 6:59PM\n",
      "2942  Southwest Airlines Co.      47    9:00PM to 9:59PM\n",
      "2943  Southwest Airlines Co.      45    4:00PM to 4:59PM\n",
      "2944  Southwest Airlines Co.      40  10:00AM to 10:59AM\n",
      "2945  Southwest Airlines Co.      45  10:00PM to 10:59PM\n",
      "2946  Southwest Airlines Co.      42    7:00AM to 7:59AM\n",
      "2947  Southwest Airlines Co.      38    8:00AM to 8:59AM\n",
      "2948  Southwest Airlines Co.      38  12:00PM to 12:59PM\n",
      "2949  Southwest Airlines Co.      43  11:00PM to 11:59PM\n",
      "2950  Southwest Airlines Co.      40    1:00PM to 1:59PM\n",
      "2951  Southwest Airlines Co.      40    6:00PM to 6:59PM\n",
      "2952  Southwest Airlines Co.      42    9:00PM to 9:59PM\n",
      "2953  Southwest Airlines Co.      44    4:00PM to 4:59PM\n",
      "2954  American Airlines Inc.      43  11:00PM to 11:59PM\n",
      "2955  American Airlines Inc.      43  11:00PM to 11:59PM\n",
      "2956  American Airlines Inc.      49  11:00PM to 11:59PM\n",
      "2957  American Airlines Inc.      45  11:00PM to 11:59PM\n",
      "2958  American Airlines Inc.      45  11:00PM to 11:59PM\n",
      "2959  American Airlines Inc.      44  11:00PM to 11:59PM\n",
      "2960  American Airlines Inc.      45  11:00PM to 11:59PM\n",
      "2961  American Airlines Inc.      43  11:00PM to 11:59PM\n",
      "\n",
      "[2962 rows x 3 columns]\n"
     ]
    }
   ],
   "source": [
    "mn = pd.read_sql(\"Select airline,airtime,atimeblk from airplanes where origin = 'LAX' and dest = 'LAS';\", conn)\n",
    "print(mn)"
   ]
  },
  {
   "cell_type": "code",
   "execution_count": 257,
   "metadata": {},
   "outputs": [
    {
     "name": "stdout",
     "output_type": "stream",
     "text": [
      "                   airline  avg(airtime)            ATimeBlk\n",
      "0   Southwest Airlines Co.     43.936508  10:00AM to 10:59AM\n",
      "1   American Airlines Inc.     44.857143  10:00AM to 10:59AM\n",
      "2           Virgin America     45.000000  10:00AM to 10:59AM\n",
      "3    SkyWest Airlines Inc.     45.767857  10:00AM to 10:59AM\n",
      "4     Delta Air Lines Inc.     46.333333  10:00AM to 10:59AM\n",
      "5   Southwest Airlines Co.     44.655738  10:00PM to 10:59PM\n",
      "6     Delta Air Lines Inc.     45.568182  10:00PM to 10:59PM\n",
      "7   American Airlines Inc.     46.077778  10:00PM to 10:59PM\n",
      "8    United Air Lines Inc.     42.470588  11:00AM to 11:59AM\n",
      "9   Southwest Airlines Co.     43.232558  11:00AM to 11:59AM\n",
      "10   SkyWest Airlines Inc.     47.000000  11:00AM to 11:59AM\n",
      "11  Southwest Airlines Co.     43.062500  11:00PM to 11:59PM\n",
      "12    Delta Air Lines Inc.     44.000000  11:00PM to 11:59PM\n",
      "13  American Airlines Inc.     45.666667  11:00PM to 11:59PM\n",
      "14  Southwest Airlines Co.     40.900000   12:00AM to 5:59AM\n",
      "15   United Air Lines Inc.     42.940299   12:00AM to 5:59AM\n",
      "16   SkyWest Airlines Inc.     45.181818   12:00AM to 5:59AM\n",
      "17  Southwest Airlines Co.     43.861111  12:00PM to 12:59PM\n",
      "18  American Airlines Inc.     45.000000  12:00PM to 12:59PM\n",
      "19          Virgin America     45.000000  12:00PM to 12:59PM\n",
      "20   SkyWest Airlines Inc.     45.160000  12:00PM to 12:59PM\n",
      "21    Delta Air Lines Inc.     45.750000  12:00PM to 12:59PM\n",
      "22          Virgin America     43.050000    1:00PM to 1:59PM\n",
      "23  Southwest Airlines Co.     43.189873    1:00PM to 1:59PM\n",
      "24  American Airlines Inc.     44.250000    1:00PM to 1:59PM\n",
      "25    Delta Air Lines Inc.     45.000000    1:00PM to 1:59PM\n",
      "26   SkyWest Airlines Inc.     46.333333    1:00PM to 1:59PM\n",
      "27   United Air Lines Inc.     47.000000    1:00PM to 1:59PM\n",
      "28  Southwest Airlines Co.     41.800000    2:00PM to 2:59PM\n",
      "29   United Air Lines Inc.     43.260870    2:00PM to 2:59PM\n",
      "..                     ...           ...                 ...\n",
      "53          Virgin America     44.658537    6:00PM to 6:59PM\n",
      "54   SkyWest Airlines Inc.     45.833333    6:00PM to 6:59PM\n",
      "55        Spirit Air Lines     44.333333    7:00AM to 7:59AM\n",
      "56  Southwest Airlines Co.     45.190476    7:00AM to 7:59AM\n",
      "57  American Airlines Inc.     46.666667    7:00AM to 7:59AM\n",
      "58   SkyWest Airlines Inc.     47.428571    7:00AM to 7:59AM\n",
      "59    Delta Air Lines Inc.     42.000000    7:00PM to 7:59PM\n",
      "60   United Air Lines Inc.     42.000000    7:00PM to 7:59PM\n",
      "61  Southwest Airlines Co.     42.750000    7:00PM to 7:59PM\n",
      "62  American Airlines Inc.     44.279070    7:00PM to 7:59PM\n",
      "63          Virgin America     44.300000    7:00PM to 7:59PM\n",
      "64   SkyWest Airlines Inc.     46.756098    7:00PM to 7:59PM\n",
      "65  Southwest Airlines Co.     43.592105    8:00AM to 8:59AM\n",
      "66          Virgin America     43.777778    8:00AM to 8:59AM\n",
      "67   SkyWest Airlines Inc.     46.833333    8:00AM to 8:59AM\n",
      "68    Delta Air Lines Inc.     47.000000    8:00AM to 8:59AM\n",
      "69          Virgin America     44.041667    8:00PM to 8:59PM\n",
      "70  Southwest Airlines Co.     44.100000    8:00PM to 8:59PM\n",
      "71    Delta Air Lines Inc.     44.428571    8:00PM to 8:59PM\n",
      "72  American Airlines Inc.     45.413793    8:00PM to 8:59PM\n",
      "73          Virgin America     42.500000    9:00AM to 9:59AM\n",
      "74  Southwest Airlines Co.     43.681818    9:00AM to 9:59AM\n",
      "75  American Airlines Inc.     44.554217    9:00AM to 9:59AM\n",
      "76   United Air Lines Inc.     44.833333    9:00AM to 9:59AM\n",
      "77   SkyWest Airlines Inc.     45.455696    9:00AM to 9:59AM\n",
      "78  Southwest Airlines Co.     43.903614    9:00PM to 9:59PM\n",
      "79  American Airlines Inc.     44.469136    9:00PM to 9:59PM\n",
      "80    Delta Air Lines Inc.     45.333333    9:00PM to 9:59PM\n",
      "81          Virgin America     45.553191    9:00PM to 9:59PM\n",
      "82   SkyWest Airlines Inc.     45.894737    9:00PM to 9:59PM\n",
      "\n",
      "[83 rows x 3 columns]\n"
     ]
    }
   ],
   "source": [
    "mn = pd.read_sql(\"Select airline,avg(airtime),atimeblk from airplanes where origin = 'LAX' and dest = 'LAS' and cancelled = 0 group by airline, atimeblk order by atimeblk, avg(airtime);\", conn)\n",
    "print(mn)"
   ]
  },
  {
   "cell_type": "code",
   "execution_count": 228,
   "metadata": {},
   "outputs": [
    {
     "name": "stdout",
     "output_type": "stream",
     "text": [
      "    min(avgair)            atimeblk                 airline\n",
      "0     43.936508  10:00AM to 10:59AM  Southwest Airlines Co.\n",
      "1     44.655738  10:00PM to 10:59PM  Southwest Airlines Co.\n",
      "2     42.470588  11:00AM to 11:59AM   United Air Lines Inc.\n",
      "3     43.062500  11:00PM to 11:59PM  Southwest Airlines Co.\n",
      "4     40.900000   12:00AM to 5:59AM  Southwest Airlines Co.\n",
      "5     43.260274  12:00PM to 12:59PM  Southwest Airlines Co.\n",
      "6     42.650000    1:00PM to 1:59PM  Southwest Airlines Co.\n",
      "7     41.800000    2:00PM to 2:59PM  Southwest Airlines Co.\n",
      "8     42.666667    3:00PM to 3:59PM  Southwest Airlines Co.\n",
      "9     43.611111    4:00PM to 4:59PM  Southwest Airlines Co.\n",
      "10    43.843750    5:00PM to 5:59PM  Southwest Airlines Co.\n",
      "11    42.000000    6:00AM to 6:59AM  Southwest Airlines Co.\n",
      "12    43.969697    6:00PM to 6:59PM    Delta Air Lines Inc.\n",
      "13    44.333333    7:00AM to 7:59AM        Spirit Air Lines\n",
      "14    42.000000    7:00PM to 7:59PM    Delta Air Lines Inc.\n",
      "15    43.592105    8:00AM to 8:59AM  Southwest Airlines Co.\n",
      "16    44.041667    8:00PM to 8:59PM          Virgin America\n",
      "17    41.782609    9:00AM to 9:59AM  Southwest Airlines Co.\n",
      "18    43.380952    9:00PM to 9:59PM  Southwest Airlines Co.\n",
      "    max(avgair)            atimeblk                 airline\n",
      "0     46.333333  10:00AM to 10:59AM    Delta Air Lines Inc.\n",
      "1     46.077778  10:00PM to 10:59PM  American Airlines Inc.\n",
      "2     47.000000  11:00AM to 11:59AM   SkyWest Airlines Inc.\n",
      "3     45.666667  11:00PM to 11:59PM  American Airlines Inc.\n",
      "4     45.181818   12:00AM to 5:59AM   SkyWest Airlines Inc.\n",
      "5     45.750000  12:00PM to 12:59PM    Delta Air Lines Inc.\n",
      "6     47.000000    1:00PM to 1:59PM   United Air Lines Inc.\n",
      "7     45.043478    2:00PM to 2:59PM   SkyWest Airlines Inc.\n",
      "8     46.000000    3:00PM to 3:59PM          Virgin America\n",
      "9     47.500000    4:00PM to 4:59PM   SkyWest Airlines Inc.\n",
      "10    47.000000    5:00PM to 5:59PM   United Air Lines Inc.\n",
      "11    42.000000    6:00AM to 6:59AM  Southwest Airlines Co.\n",
      "12    45.833333    6:00PM to 6:59PM   SkyWest Airlines Inc.\n",
      "13    47.428571    7:00AM to 7:59AM   SkyWest Airlines Inc.\n",
      "14    46.756098    7:00PM to 7:59PM   SkyWest Airlines Inc.\n",
      "15    47.000000    8:00AM to 8:59AM    Delta Air Lines Inc.\n",
      "16    45.413793    8:00PM to 8:59PM  American Airlines Inc.\n",
      "17    45.455696    9:00AM to 9:59AM   SkyWest Airlines Inc.\n",
      "18    45.894737    9:00PM to 9:59PM   SkyWest Airlines Inc.\n"
     ]
    }
   ],
   "source": [
    "mn = pd.read_sql(\"Select min(avgair), atimeblk, airline from (Select airline,avg(airtime)avgair,atimeblk from airplanes where origin = 'LAX' and dest = 'LAS' group by airline, atimeblk order by atimeblk, avg(airtime)) group by atimeblk;\", conn)\n",
    "print(mn)\n",
    "mn = pd.read_sql(\"Select max(avgair), atimeblk, airline from (Select airline,avg(airtime)avgair,atimeblk from airplanes where origin = 'LAX' and dest = 'LAS' group by airline, atimeblk order by atimeblk, avg(airtime)) group by atimeblk;\", conn)\n",
    "print(mn)"
   ]
  },
  {
   "cell_type": "code",
   "execution_count": 272,
   "metadata": {},
   "outputs": [
    {
     "name": "stdout",
     "output_type": "stream",
     "text": [
      "    min(avgair)            atimeblk                 airline\n",
      "0     43.936508  10:00AM to 10:59AM  Southwest Airlines Co.\n",
      "1     44.655738  10:00PM to 10:59PM  Southwest Airlines Co.\n",
      "2     42.470588  11:00AM to 11:59AM   United Air Lines Inc.\n",
      "3     43.062500  11:00PM to 11:59PM  Southwest Airlines Co.\n",
      "4     40.900000   12:00AM to 5:59AM  Southwest Airlines Co.\n",
      "5     43.260274  12:00PM to 12:59PM  Southwest Airlines Co.\n",
      "6     42.650000    1:00PM to 1:59PM  Southwest Airlines Co.\n",
      "7     41.800000    2:00PM to 2:59PM  Southwest Airlines Co.\n",
      "8     42.666667    3:00PM to 3:59PM  Southwest Airlines Co.\n",
      "9     43.611111    4:00PM to 4:59PM  Southwest Airlines Co.\n",
      "10    43.843750    5:00PM to 5:59PM  Southwest Airlines Co.\n",
      "11    42.000000    6:00AM to 6:59AM  Southwest Airlines Co.\n",
      "12    43.969697    6:00PM to 6:59PM    Delta Air Lines Inc.\n",
      "13    44.333333    7:00AM to 7:59AM        Spirit Air Lines\n",
      "14    42.000000    7:00PM to 7:59PM    Delta Air Lines Inc.\n",
      "15    43.592105    8:00AM to 8:59AM  Southwest Airlines Co.\n",
      "16    44.041667    8:00PM to 8:59PM          Virgin America\n",
      "17    41.782609    9:00AM to 9:59AM  Southwest Airlines Co.\n",
      "18    43.380952    9:00PM to 9:59PM  Southwest Airlines Co.\n",
      "                  airline     avgair\n",
      "0  Southwest Airlines Co.  43.509648\n",
      "1   United Air Lines Inc.  43.651515\n",
      "2        Spirit Air Lines  44.222222\n",
      "3          Virgin America  44.413223\n",
      "4    Delta Air Lines Inc.  44.645161\n",
      "5  American Airlines Inc.  44.794020\n",
      "6   SkyWest Airlines Inc.  45.537383\n"
     ]
    }
   ],
   "source": [
    "mn = pd.read_sql(\"Select min(avgair), atimeblk, airline from (Select airline,avg(airtime)avgair,atimeblk from airplanes where origin = 'LAX' and dest = 'LAS' group by airline, atimeblk order by atimeblk, avg(airtime)) group by atimeblk;\", conn)\n",
    "print(mn)\n",
    "mn = pd.read_sql(\"Select airline,avg(airtime)avgair from airplanes where origin = 'LAX' and dest = 'LAS' group by airline order by avg(airtime);\", conn)\n",
    "print(mn)"
   ]
  },
  {
   "cell_type": "code",
   "execution_count": null,
   "metadata": {},
   "outputs": [],
   "source": []
  },
  {
   "cell_type": "code",
   "execution_count": 265,
   "metadata": {},
   "outputs": [
    {
     "name": "stdout",
     "output_type": "stream",
     "text": [
      "   count(*)                 airline\n",
      "0         5  American Airlines Inc.\n",
      "1         2    Delta Air Lines Inc.\n",
      "2         1   Endeavor Air Inc.: 9E\n",
      "3         1               Envoy Air\n",
      "4         1       PSA Airlines Inc.\n",
      "5         1        Republic Airline\n",
      "6         2   SkyWest Airlines Inc.\n",
      "7         2        Spirit Air Lines\n",
      "8         3   United Air Lines Inc.\n",
      "------------\n",
      "   count(*)                   airline\n",
      "0         7    American Airlines Inc.\n",
      "1         1      Delta Air Lines Inc.\n",
      "2         2     Endeavor Air Inc.: 9E\n",
      "3         1                 Envoy Air\n",
      "4         1  ExpressJet Airlines Inc.\n",
      "5         1          Republic Airline\n",
      "6         3     SkyWest Airlines Inc.\n",
      "7         2     United Air Lines Inc.\n",
      "------------\n",
      "   count(*)                 airline\n",
      "0         3  American Airlines Inc.\n",
      "1         6    Delta Air Lines Inc.\n",
      "2         3   Endeavor Air Inc.: 9E\n",
      "3         2               Envoy Air\n",
      "4         1        Republic Airline\n",
      "5         2   SkyWest Airlines Inc.\n",
      "6         1        Spirit Air Lines\n",
      "------------\n",
      "   count(*)                   airline\n",
      "0         3    American Airlines Inc.\n",
      "1         4      Delta Air Lines Inc.\n",
      "2         2     Endeavor Air Inc.: 9E\n",
      "3         1                 Envoy Air\n",
      "4         1  ExpressJet Airlines Inc.\n",
      "5         1          Republic Airline\n",
      "6         2     SkyWest Airlines Inc.\n",
      "7         2     United Air Lines Inc.\n"
     ]
    }
   ],
   "source": [
    "mn = pd.read_sql(\"Select count(*), airline from (Select min(avgair), atimeblk airline from (Select airline,avg(airtime)avgair,atimeblk from airplanes where origin = 'MSP' and dest = 'ORD' group by airline, atimeblk order by atimeblk, avg(airtime)) group by atimeblk) group by airline;\", conn)\n",
    "print(mn)\n",
    "print(\"------------\")\n",
    "mn = pd.read_sql(\"Select count(*), airline from (Select min(avgair), atimeblk, airline from (Select airline,avg(airtime)avgair,atimeblk from airplanes where origin = 'ORD' and dest = 'MSP' group by airline, atimeblk order by atimeblk, avg(airtime)) group by atimeblk) group by airline;\", conn)\n",
    "print(mn)\n",
    "print(\"------------\")\n",
    "mn = pd.read_sql(\"Select count(*), airline from (Select min(avgair), atimeblk, airline from (Select airline,avg(airtime)avgair,atimeblk from airplanes where origin = 'ATL' and dest = 'ORD' group by airline, atimeblk order by atimeblk, avg(airtime)) group by atimeblk) group by airline;\", conn)\n",
    "print(mn)\n",
    "print(\"------------\")\n",
    "mn = pd.read_sql(\"Select count(*), airline from (Select min(avgair), atimeblk, airline from (Select airline,avg(airtime)avgair,atimeblk from airplanes where origin = 'ORD' and dest = 'ATL' group by airline, atimeblk order by atimeblk, avg(airtime)) group by atimeblk) group by airline;\", conn)\n",
    "print(mn)"
   ]
  },
  {
   "cell_type": "code",
   "execution_count": 174,
   "metadata": {},
   "outputs": [
    {
     "name": "stdout",
     "output_type": "stream",
     "text": [
      "     dayname  TotalFlights  Cancelled  PercentCancelled\n",
      "0  Wednesday        251573      11860               4.7\n",
      "1   Thursday        258637       7930               3.1\n",
      "2     Friday        260031       7814               3.0\n",
      "3    Tuesday        248792       6691               2.7\n",
      "4     Monday        255584       4032               1.6\n",
      "5     Sunday        221691       3075               1.4\n",
      "6   Saturday        206562       2037               1.0\n"
     ]
    },
    {
     "data": {
      "text/plain": [
       "[<matplotlib.text.Text at 0x10fe4c0f0>,\n",
       " <matplotlib.text.Text at 0x1106376a0>,\n",
       " <matplotlib.text.Text at 0x112ae4cf8>,\n",
       " <matplotlib.text.Text at 0x112ae4f98>,\n",
       " <matplotlib.text.Text at 0x112793da0>,\n",
       " <matplotlib.text.Text at 0x112793ac8>,\n",
       " <matplotlib.text.Text at 0x112b27400>]"
      ]
     },
     "execution_count": 174,
     "metadata": {},
     "output_type": "execute_result"
    },
    {
     "data": {
      "image/png": "[encoded data removed]",
      "text/plain": [
       "<matplotlib.figure.Figure at 0x10d6e7ac8>"
      ]
     },
     "metadata": {},
     "output_type": "display_data"
    }
   ],
   "source": [
    "canc = pd.read_sql(\"Select a.dayname, a.TotalFlights, b.Cancelled, ROUND(b.Cancelled * 100.0 / a.TotalFlights, 1)PercentCancelled from(Select distinct dayname, count(flightnum)TotalFlights from airplanes group by dayname order by dayname) as a inner join (Select distinct dayname, count(flightnum)Cancelled from airplanes where cancelled = 1.00 group by dayname order by dayname) as b on a.dayname = b.dayname order by PercentCancelled desc;\", conn)\n",
    "print(canc)\n",
    "ax1 = canc[['dayname','PercentCancelled']].plot(kind='bar', title =\"Percent of Flights Cancelled\", figsize=(10, 8), legend=True, fontsize=12)\n",
    "ax1.set_xticklabels(canc['dayname'], rotation=0)\n"
   ]
  },
  {
   "cell_type": "code",
   "execution_count": 175,
   "metadata": {},
   "outputs": [
    {
     "name": "stdout",
     "output_type": "stream",
     "text": [
      "              dtimeblk  TotalFlights  Early  PercentEarly\n",
      "0     6:00AM to 6:59AM        118809  91695          77.2\n",
      "1    12:00AM to 5:59AM         44723  34297          76.7\n",
      "2     7:00AM to 7:59AM        113073  83843          74.1\n",
      "3     8:00AM to 8:59AM        111210  77258          69.5\n",
      "4     9:00AM to 9:59AM         96045  62922          65.5\n",
      "5   11:00PM to 11:59PM         11423   7054          61.8\n",
      "6   10:00AM to 10:59AM         99093  61132          61.7\n",
      "7   11:00AM to 11:59AM        105894  64466          60.9\n",
      "8   10:00PM to 10:59PM         41893  24971          59.6\n",
      "9   12:00PM to 12:59PM        104817  62288          59.4\n",
      "10    1:00PM to 1:59PM         94873  53492          56.4\n",
      "11    9:00PM to 9:59PM         48805  27382          56.1\n",
      "12    2:00PM to 2:59PM         96718  54158          56.0\n",
      "13    3:00PM to 3:59PM        101287  56463          55.7\n",
      "14    8:00PM to 8:59PM         77708  43223          55.6\n",
      "15    4:00PM to 4:59PM         97815  53782          55.0\n",
      "16    5:00PM to 5:59PM        109486  59914          54.7\n",
      "17    6:00PM to 6:59PM         95334  51694          54.2\n",
      "18    7:00PM to 7:59PM         90425  48754          53.9\n"
     ]
    }
   ],
   "source": [
    "can = pd.read_sql(\"Select a.dtimeblk, a.TotalFlights, b.Early, ROUND(b.Early * 100.0 / a.TotalFlights, 1)PercentEarly  from(Select distinct dtimeblk, count(flightnum)TotalFlights from airplanes where cancelled = 0.00 group by dtimeblk order by dtimeblk) as a inner join (Select distinct dtimeblk, count(flightnum)Early from airplanes where cancelled = 0.00 and depdelay < 0 group by dtimeblk order by dtimeblk) as b on a.dtimeblk = b.dtimeblk order by PercentEarly desc;\", conn)\n",
    "print(can)"
   ]
  },
  {
   "cell_type": "code",
   "execution_count": 176,
   "metadata": {},
   "outputs": [
    {
     "name": "stdout",
     "output_type": "stream",
     "text": [
      "              dtimeblk  TotalFlights  Delay  PercentDelay\n",
      "0     7:00PM to 7:59PM         90425  37706          41.7\n",
      "1     6:00PM to 6:59PM         95334  39613          41.6\n",
      "2     5:00PM to 5:59PM        109486  44863          41.0\n",
      "3     4:00PM to 4:59PM         97815  39507          40.4\n",
      "4     8:00PM to 8:59PM         77708  31226          40.2\n",
      "5     9:00PM to 9:59PM         48805  19394          39.7\n",
      "6     3:00PM to 3:59PM        101287  40045          39.5\n",
      "7     2:00PM to 2:59PM         96718  37851          39.1\n",
      "8     1:00PM to 1:59PM         94873  36613          38.6\n",
      "9   10:00PM to 10:59PM         41893  15151          36.2\n",
      "10  12:00PM to 12:59PM        104817  37491          35.8\n",
      "11  11:00AM to 11:59AM        105894  35999          34.0\n",
      "12  11:00PM to 11:59PM         11423   3841          33.6\n",
      "13  10:00AM to 10:59AM         99093  32683          33.0\n",
      "14    9:00AM to 9:59AM         96045  28045          29.2\n",
      "15    8:00AM to 8:59AM        111210  27925          25.1\n",
      "16    7:00AM to 7:59AM        113073  23020          20.4\n",
      "17   12:00AM to 5:59AM         44723   7876          17.6\n",
      "18    6:00AM to 6:59AM        118809  20610          17.3\n"
     ]
    }
   ],
   "source": [
    "can = pd.read_sql(\"Select a.dtimeblk, a.TotalFlights, b.Delay, ROUND(b.Delay * 100.0 / a.TotalFlights, 1)PercentDelay  from(Select distinct dtimeblk, count(flightnum)TotalFlights from airplanes where cancelled = 0.00 group by dtimeblk order by dtimeblk) as a inner join (Select distinct dtimeblk, count(flightnum)Delay from airplanes where cancelled = 0.00 and depdelay > 0 group by dtimeblk order by dtimeblk) as b on a.dtimeblk = b.dtimeblk order by PercentDelay desc;\", conn)\n",
    "print(can)"
   ]
  },
  {
   "cell_type": "code",
   "execution_count": 177,
   "metadata": {},
   "outputs": [
    {
     "name": "stdout",
     "output_type": "stream",
     "text": [
      "              dtimeblk  TotalFlights  OnTime  PercentOnTime\n",
      "0    12:00AM to 5:59AM         44723    2550            5.7\n",
      "1     6:00AM to 6:59AM        118809    6504            5.5\n",
      "2     7:00AM to 7:59AM        113073    6210            5.5\n",
      "3     8:00AM to 8:59AM        111210    6027            5.4\n",
      "4   10:00AM to 10:59AM         99093    5278            5.3\n",
      "5     9:00AM to 9:59AM         96045    5078            5.3\n",
      "6   11:00AM to 11:59AM        105894    5429            5.1\n",
      "7     1:00PM to 1:59PM         94873    4768            5.0\n",
      "8     2:00PM to 2:59PM         96718    4709            4.9\n",
      "9   12:00PM to 12:59PM        104817    5038            4.8\n",
      "10    3:00PM to 3:59PM        101287    4779            4.7\n",
      "11  11:00PM to 11:59PM         11423     528            4.6\n",
      "12    4:00PM to 4:59PM         97815    4526            4.6\n",
      "13    7:00PM to 7:59PM         90425    3965            4.4\n",
      "14    5:00PM to 5:59PM        109486    4709            4.3\n",
      "15  10:00PM to 10:59PM         41893    1771            4.2\n",
      "16    6:00PM to 6:59PM         95334    4027            4.2\n",
      "17    8:00PM to 8:59PM         77708    3259            4.2\n",
      "18    9:00PM to 9:59PM         48805    2029            4.2\n"
     ]
    }
   ],
   "source": [
    "can = pd.read_sql(\"Select a.dtimeblk, a.TotalFlights, b.OnTime, ROUND(b.OnTime * 100.0 / a.TotalFlights, 1)PercentOnTime  from(Select distinct dtimeblk, count(flightnum)TotalFlights from airplanes where cancelled = 0.00 group by dtimeblk order by dtimeblk) as a inner join (Select distinct dtimeblk, count(flightnum)OnTime from airplanes where cancelled = 0.00 and depdelay = 0 group by dtimeblk order by dtimeblk) as b on a.dtimeblk = b.dtimeblk order by PercentOnTime desc;\", conn)\n",
    "print(can)"
   ]
  },
  {
   "cell_type": "code",
   "execution_count": 178,
   "metadata": {},
   "outputs": [
    {
     "name": "stdout",
     "output_type": "stream",
     "text": [
      "   CAST(1 AS DECIMAL) / 2\n",
      "0                       0\n"
     ]
    }
   ],
   "source": [
    "can = pd.read_sql(\"SELECT CAST(1 AS DECIMAL) / 2;\", conn)\n",
    "print(can)"
   ]
  },
  {
   "cell_type": "code",
   "execution_count": 179,
   "metadata": {},
   "outputs": [
    {
     "name": "stdout",
     "output_type": "stream",
     "text": [
      "              DTimeBlk  TotalFlights  count(depdelay)\n",
      "0   10:00AM to 10:59AM         99093            99093\n",
      "1   10:00PM to 10:59PM         41893            41893\n",
      "2   11:00AM to 11:59AM        105894           105894\n",
      "3   11:00PM to 11:59PM         11423            11423\n",
      "4    12:00AM to 5:59AM         44723            44723\n",
      "5   12:00PM to 12:59PM        104817           104817\n",
      "6     1:00PM to 1:59PM         94873            94873\n",
      "7     2:00PM to 2:59PM         96718            96718\n",
      "8     3:00PM to 3:59PM        101287           101287\n",
      "9     4:00PM to 4:59PM         97815            97815\n",
      "10    5:00PM to 5:59PM        109486           109486\n",
      "11    6:00AM to 6:59AM        118809           118809\n",
      "12    6:00PM to 6:59PM         95334            95334\n",
      "13    7:00AM to 7:59AM        113073           113073\n",
      "14    7:00PM to 7:59PM         90425            90425\n",
      "15    8:00AM to 8:59AM        111210           111210\n",
      "16    8:00PM to 8:59PM         77708            77708\n",
      "17    9:00AM to 9:59AM         96045            96045\n",
      "18    9:00PM to 9:59PM         48805            48805\n"
     ]
    }
   ],
   "source": [
    "can = pd.read_sql(\"Select distinct dtimeblk, count(flightnum)TotalFlights, count(depdelay) from airplanes where cancelled = 0.00 group by dtimeblk order by dtimeblk;\", conn)\n",
    "print(can)\n"
   ]
  },
  {
   "cell_type": "code",
   "execution_count": 180,
   "metadata": {},
   "outputs": [
    {
     "name": "stdout",
     "output_type": "stream",
     "text": [
      "              DTimeBlk  EarlyOnTime\n",
      "0   10:00AM to 10:59AM        66410\n",
      "1   10:00PM to 10:59PM        26742\n",
      "2   11:00AM to 11:59AM        69895\n",
      "3   11:00PM to 11:59PM         7582\n",
      "4    12:00AM to 5:59AM        36847\n",
      "5   12:00PM to 12:59PM        67326\n",
      "6     1:00PM to 1:59PM        58260\n",
      "7     2:00PM to 2:59PM        58867\n",
      "8     3:00PM to 3:59PM        61242\n",
      "9     4:00PM to 4:59PM        58308\n",
      "10    5:00PM to 5:59PM        64623\n",
      "11    6:00AM to 6:59AM        98199\n",
      "12    6:00PM to 6:59PM        55721\n",
      "13    7:00AM to 7:59AM        90053\n",
      "14    7:00PM to 7:59PM        52719\n",
      "15    8:00AM to 8:59AM        83285\n",
      "16    8:00PM to 8:59PM        46482\n",
      "17    9:00AM to 9:59AM        68000\n",
      "18    9:00PM to 9:59PM        29411\n"
     ]
    }
   ],
   "source": [
    "can = pd.read_sql(\"Select distinct dtimeblk, count(flightnum)EarlyOnTime from airplanes where cancelled = 0.00 and depdelay <= 0 group by dtimeblk order by dtimeblk;\", conn)\n",
    "print(can)"
   ]
  },
  {
   "cell_type": "code",
   "execution_count": null,
   "metadata": {
    "collapsed": true
   },
   "outputs": [],
   "source": []
  }
 ],
 "metadata": {
  "kernelspec": {
   "display_name": "Python 3",
   "language": "python",
   "name": "python3"
  },
  "language_info": {
   "codemirror_mode": {
    "name": "ipython",
    "version": 3
   },
   "file_extension": ".py",
   "mimetype": "text/x-python",
   "name": "python",
   "nbconvert_exporter": "python",
   "pygments_lexer": "ipython3",
   "version": "3.6.1"
  }
 },
 "nbformat": 4,
 "nbformat_minor": 2
}
